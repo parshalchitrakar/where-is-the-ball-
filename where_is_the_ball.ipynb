{
 "cells": [
  {
   "cell_type": "code",
   "execution_count": 28,
   "id": "b3ab3fb3",
   "metadata": {},
   "outputs": [],
   "source": [
    "from random import shuffle\n"
   ]
  },
  {
   "cell_type": "code",
   "execution_count": 29,
   "id": "8e5af696",
   "metadata": {},
   "outputs": [],
   "source": [
    "def suf_data(list_data):\n",
    "    shuffle(list_data)\n",
    "    return(list_data)\n",
    "\n"
   ]
  },
  {
   "cell_type": "code",
   "execution_count": 30,
   "id": "28f3cc89",
   "metadata": {},
   "outputs": [],
   "source": [
    "def inp_guess():\n",
    "    guess = 10\n",
    "    while guess not in [0,1,2]:\n",
    "        \n",
    "        guess = int(input(\"enter your guess between 0,1,2\\n\"))\n",
    "    return guess"
   ]
  },
  {
   "cell_type": "code",
   "execution_count": 40,
   "id": "9079a3d1",
   "metadata": {},
   "outputs": [],
   "source": [
    "def validation(suff_data,inp_guess):\n",
    "    if suff_data[inp_guess]==\"0\":\n",
    "        print(\"You win\")\n",
    "    else:\n",
    "        print(\"sorry better luck next time.\\n\")\n",
    "        print(f\"the ball was in {suff_data}\")\n",
    "    "
   ]
  },
  {
   "cell_type": "code",
   "execution_count": 41,
   "id": "b2b5bbfe",
   "metadata": {},
   "outputs": [
    {
     "name": "stdout",
     "output_type": "stream",
     "text": [
      "enter your guess between 0,1,2\n",
      "0\n",
      "sorry better luck next time.\n",
      "\n",
      "the ball was in [' ', '0', ' ']\n"
     ]
    }
   ],
   "source": [
    "number = [\" \",\"0\",\" \"]\n",
    "a = suf_data(number)\n",
    "b = inp_guess()\n",
    "validation(a,b)"
   ]
  },
  {
   "cell_type": "code",
   "execution_count": null,
   "id": "d2c780cc",
   "metadata": {},
   "outputs": [],
   "source": []
  }
 ],
 "metadata": {
  "kernelspec": {
   "display_name": "Python 3 (ipykernel)",
   "language": "python",
   "name": "python3"
  },
  "language_info": {
   "codemirror_mode": {
    "name": "ipython",
    "version": 3
   },
   "file_extension": ".py",
   "mimetype": "text/x-python",
   "name": "python",
   "nbconvert_exporter": "python",
   "pygments_lexer": "ipython3",
   "version": "3.7.8"
  }
 },
 "nbformat": 4,
 "nbformat_minor": 5
}
